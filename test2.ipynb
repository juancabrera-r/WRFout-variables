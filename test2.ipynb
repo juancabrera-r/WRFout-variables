{
 "cells": [
  {
   "cell_type": "code",
   "execution_count": 29,
   "metadata": {},
   "outputs": [],
   "source": [
    "import os\n",
    "import netCDF4 as nc\n",
    "import numpy as np\n",
    "import rasterio\n",
    "from rasterio.transform import from_origin\n",
    "import wrf\n",
    "import xarray as xr\n",
    "import numpy as np\n",
    "\n",
    "import cartopy.crs as crs\n",
    "import cartopy.crs as ccrs"
   ]
  },
  {
   "cell_type": "code",
   "execution_count": 30,
   "metadata": {},
   "outputs": [],
   "source": [
    "folder = 'wrfout'\n",
    "for filename in os.listdir(folder):\n",
    "    # Check if the filename contains a colon\n",
    "    if '%' in filename or ':' in filename:\n",
    "        new_filename = filename.replace(\"%\", \"-\")\n",
    "        new_filename = filename.replace(\":\", \"-\")\n",
    "        old_path = os.path.join(folder, filename)\n",
    "        new_path = os.path.join(folder, new_filename)\n",
    "        os.rename(old_path, new_path)\n",
    "        print(f\"Renamed: {filename} -> {new_filename}\")"
   ]
  },
  {
   "cell_type": "code",
   "execution_count": 31,
   "metadata": {},
   "outputs": [],
   "source": [
    "root = 'wrfout'\n",
    "data = nc.Dataset(root + '/wrfout_d03_2025-03-04_08-3A00-3A00')"
   ]
  },
  {
   "cell_type": "code",
   "execution_count": 32,
   "metadata": {},
   "outputs": [],
   "source": [
    "t2 =  wrf.getvar(data, \"T2\", timeidx=0)"
   ]
  },
  {
   "cell_type": "code",
   "execution_count": 44,
   "metadata": {},
   "outputs": [
    {
     "name": "stdout",
     "output_type": "stream",
     "text": [
      "-15.61920166015625 -15.390350341796875 27.948341369628906 28.15030288696289\n"
     ]
    }
   ],
   "source": [
    "xmin = float(np.min(t2.XLONG).values)\n",
    "xmax = float(np.max(t2.XLONG).values)\n",
    "ymin = float(np.min(t2.XLAT).values)\n",
    "ymax = float(np.max(t2.XLAT).values)\n",
    "\n",
    "\n",
    "print( xmin, xmax, ymin, ymax)"
   ]
  },
  {
   "cell_type": "code",
   "execution_count": 37,
   "metadata": {},
   "outputs": [],
   "source": [
    "#Extracting coordinates\n",
    "latitudes = data.variables[\"XLAT\"][:,:]\n",
    "longitudes = data.variables[\"XLONG\"][:,:]\n",
    "\n",
    "# take a single time step\n",
    "time0_T2 = data.variables[\"T2\"][0,:,:]\n",
    "\n",
    "# defining lists for the output dataset\n",
    "lat, lon, temp, nc = [], [], [], []"
   ]
  },
  {
   "cell_type": "code",
   "execution_count": null,
   "metadata": {},
   "outputs": [
    {
     "ename": "ValueError",
     "evalue": "The truth value of an array with more than one element is ambiguous. Use a.any() or a.all()",
     "output_type": "error",
     "traceback": [
      "\u001b[1;31m---------------------------------------------------------------------------\u001b[0m",
      "\u001b[1;31mValueError\u001b[0m                                Traceback (most recent call last)",
      "Cell \u001b[1;32mIn[47], line 5\u001b[0m\n\u001b[0;32m      3\u001b[0m \u001b[38;5;28;01mfor\u001b[39;00m i \u001b[38;5;129;01min\u001b[39;00m \u001b[38;5;28mrange\u001b[39m(latitudes\u001b[38;5;241m.\u001b[39mshape[\u001b[38;5;241m0\u001b[39m]):\n\u001b[0;32m      4\u001b[0m     \u001b[38;5;28;01mfor\u001b[39;00m j \u001b[38;5;129;01min\u001b[39;00m \u001b[38;5;28mrange\u001b[39m(latitudes\u001b[38;5;241m.\u001b[39mshape[\u001b[38;5;241m1\u001b[39m]):\n\u001b[1;32m----> 5\u001b[0m         \u001b[38;5;28mprint\u001b[39m(ymin \u001b[38;5;241m<\u001b[39m\u001b[38;5;241m=\u001b[39m latitudes[i, j] \u001b[38;5;129;01mand\u001b[39;00m latitudes[i, j] \u001b[38;5;241m<\u001b[39m\u001b[38;5;241m=\u001b[39m ymax)\n\u001b[0;32m      6\u001b[0m         \u001b[38;5;66;03m# if ymin <= latitudes[i, j] <= ymax and xmin <= longitudes[i, j] <= xmax:\u001b[39;00m\n\u001b[0;32m      7\u001b[0m         \u001b[38;5;66;03m#     lat.append(latitudes[i, j])\u001b[39;00m\n\u001b[0;32m      8\u001b[0m         \u001b[38;5;66;03m#     lon.append(longitudes[i, j])\u001b[39;00m\n\u001b[1;32m   (...)\u001b[0m\n\u001b[0;32m     11\u001b[0m         \u001b[38;5;66;03m#     nc.append(count)\u001b[39;00m\n\u001b[0;32m     12\u001b[0m         \u001b[38;5;66;03m#     count = count + 1\u001b[39;00m\n",
      "\u001b[1;31mValueError\u001b[0m: The truth value of an array with more than one element is ambiguous. Use a.any() or a.all()"
     ]
    }
   ],
   "source": [
    "# counter variable for cell indexing\n",
    "count = 1\n",
    "for i in range(latitudes.shape[0]):\n",
    "    for j in range(latitudes.shape[1]):\n",
    "        lat = latitudes[i, j]\n",
    "        print(ymin <= lat <= ymax)\n",
    "        # if ymin <= latitudes[i, j] <= ymax and xmin <= longitudes[i, j] <= xmax:\n",
    "        #     lat.append(latitudes[i, j])\n",
    "        #     lon.append(longitudes[i, j])\n",
    "        #     # convert temperature from Kelvin to Celsius\n",
    "        #     temp.append(time0_T2[i, j])\n",
    "        #     nc.append(count)\n",
    "        #     count = count + 1"
   ]
  }
 ],
 "metadata": {
  "kernelspec": {
   "display_name": "wrf_output",
   "language": "python",
   "name": "python3"
  },
  "language_info": {
   "codemirror_mode": {
    "name": "ipython",
    "version": 3
   },
   "file_extension": ".py",
   "mimetype": "text/x-python",
   "name": "python",
   "nbconvert_exporter": "python",
   "pygments_lexer": "ipython3",
   "version": "3.10.16"
  }
 },
 "nbformat": 4,
 "nbformat_minor": 2
}
